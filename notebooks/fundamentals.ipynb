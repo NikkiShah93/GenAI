{
 "cells": [
  {
   "cell_type": "markdown",
   "id": "9245324f-0c45-436d-8113-5f8638226bb2",
   "metadata": {},
   "source": [
    "### LLM Fundamentals\n",
    "\n",
    "In this notebook we will go through the fundamentals of the **LLM**.\n",
    "\n",
    "The steps are as follows:\n",
    "- Load the data\n",
    "- Encode the data"
   ]
  },
  {
   "cell_type": "code",
   "execution_count": 7,
   "id": "c955044e-1ba4-4123-be75-add835cf19e2",
   "metadata": {},
   "outputs": [],
   "source": [
    "## first the imports\n",
    "import numpy as np\n",
    "import matplotlib.pyplot as plt\n",
    "from pathlib import Path"
   ]
  },
  {
   "cell_type": "markdown",
   "id": "2d3fec8c-5aeb-42b0-9866-877d111165d6",
   "metadata": {},
   "source": [
    "### Loading the data"
   ]
  },
  {
   "cell_type": "code",
   "execution_count": 8,
   "id": "1d4d68be-4c84-47c3-b896-b106648091c1",
   "metadata": {},
   "outputs": [],
   "source": [
    "DATA_PATH = '../data/'\n",
    "PATH = Path(DATA_PATH)\n",
    "FILE_NAME = 'wizardOfOz.txt'\n",
    "FILE_PATH = PATH / FILE_NAME"
   ]
  },
  {
   "cell_type": "code",
   "execution_count": 12,
   "id": "60db8bc7-ab79-4e4e-ba55-08b437d8c14f",
   "metadata": {},
   "outputs": [
    {
     "name": "stdout",
     "output_type": "stream",
     "text": [
      "﻿ Dorothy and the Wizard in Oz\n",
      "\n",
      "\n",
      "  A Faithful Record of Their Amazing Adventures\n",
      "    in an Undergrou\n"
     ]
    }
   ],
   "source": [
    "## opening the file\n",
    "with open(FILE_PATH, 'r', encoding = 'utf-8') as f:\n",
    "    text = f.read()\n",
    "## checking the first 100 char\n",
    "print(text[:100])"
   ]
  },
  {
   "cell_type": "markdown",
   "id": "6cb01b39-49f2-4a28-8e88-0f62a2f10c80",
   "metadata": {},
   "source": [
    "### Encoding the data"
   ]
  },
  {
   "cell_type": "code",
   "execution_count": 16,
   "id": "8e5e9358-2432-4c91-b756-cddf520b73f8",
   "metadata": {},
   "outputs": [
    {
     "name": "stdout",
     "output_type": "stream",
     "text": [
      "76\n"
     ]
    }
   ],
   "source": [
    "## first we want to create a set of char\n",
    "chars = sorted(set(text))\n",
    "## checking how many distinct char are in the text\n",
    "print(len(chars))\n",
    "## and then assign a number to each char\n",
    "int_to_string = {i:l for i, l in enumerate(chars)}\n",
    "string_to_int = {l:i for i, l in enumerate(chars)}\n",
    "## and then move on to creating our encoding and decoding functions\n",
    "encode = lambda l:[string_to_int[x] for x in l]\n",
    "decode = lambda i:''.join([int_to_string[x] for x in i])"
   ]
  },
  {
   "cell_type": "code",
   "execution_count": 18,
   "id": "06ba0b36-3075-4cc8-8638-9a7d8f7664e0",
   "metadata": {},
   "outputs": [
    {
     "name": "stdout",
     "output_type": "stream",
     "text": [
      "[27, 63, 66, 63, 68, 56, 73]\n",
      "Dorothy\n"
     ]
    }
   ],
   "source": [
    "## we can test our encoder and decoder now\n",
    "print(encode('Dorothy'))\n",
    "print(decode(encode('Dorothy')))"
   ]
  },
  {
   "cell_type": "code",
   "execution_count": null,
   "id": "150bfc09-6112-4fa8-a2f1-6c18b350b47f",
   "metadata": {},
   "outputs": [],
   "source": []
  }
 ],
 "metadata": {
  "kernelspec": {
   "display_name": "Python 3 (ipykernel)",
   "language": "python",
   "name": "python3"
  },
  "language_info": {
   "codemirror_mode": {
    "name": "ipython",
    "version": 3
   },
   "file_extension": ".py",
   "mimetype": "text/x-python",
   "name": "python",
   "nbconvert_exporter": "python",
   "pygments_lexer": "ipython3",
   "version": "3.11.7"
  }
 },
 "nbformat": 4,
 "nbformat_minor": 5
}
